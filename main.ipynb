{
 "cells": [
  {
   "attachments": {},
   "cell_type": "markdown",
   "metadata": {},
   "source": [
    "### Integrantes  \n",
    "Bryann Alfaro  \n",
    "Raul Jimenez  \n",
    "Donaldo Garcia  "
   ]
  },
  {
   "attachments": {},
   "cell_type": "markdown",
   "metadata": {},
   "source": [
    "Questions  \n",
    "balance data?  \n",
    "extract numbers with columns (number of api calls just that)  \n",
    "Kfolds validation?"
   ]
  },
  {
   "attachments": {},
   "cell_type": "markdown",
   "metadata": {},
   "source": [
    "# Desarrollo"
   ]
  },
  {
   "cell_type": "code",
   "execution_count": 1,
   "metadata": {},
   "outputs": [],
   "source": [
    "#import libraries\n",
    "import pandas as pd\n",
    "import numpy as np\n",
    "import matplotlib.pyplot as plt\n",
    "import seaborn as sns\n",
    "import warnings\n",
    "warnings.filterwarnings('ignore')\n",
    "%matplotlib inline"
   ]
  },
  {
   "attachments": {},
   "cell_type": "markdown",
   "metadata": {},
   "source": [
    "## Analisis exploratorio"
   ]
  },
  {
   "cell_type": "code",
   "execution_count": 2,
   "metadata": {},
   "outputs": [
    {
     "data": {
      "text/html": [
       "<div>\n",
       "<style scoped>\n",
       "    .dataframe tbody tr th:only-of-type {\n",
       "        vertical-align: middle;\n",
       "    }\n",
       "\n",
       "    .dataframe tbody tr th {\n",
       "        vertical-align: top;\n",
       "    }\n",
       "\n",
       "    .dataframe thead th {\n",
       "        text-align: right;\n",
       "    }\n",
       "</style>\n",
       "<table border=\"1\" class=\"dataframe\">\n",
       "  <thead>\n",
       "    <tr style=\"text-align: right;\">\n",
       "      <th></th>\n",
       "      <th>file</th>\n",
       "      <th>api</th>\n",
       "      <th>class</th>\n",
       "    </tr>\n",
       "  </thead>\n",
       "  <tbody>\n",
       "    <tr>\n",
       "      <th>0</th>\n",
       "      <td>7ff49f2f0912352416b05c010f35f402cc79feed</td>\n",
       "      <td>IntersectRect,GetCurrentProcess,GetVersion</td>\n",
       "      <td>Virus</td>\n",
       "    </tr>\n",
       "    <tr>\n",
       "      <th>1</th>\n",
       "      <td>50cc6c99ec285d0db45dde07d8fdc18d9098c5b6</td>\n",
       "      <td>GetCaretBlinkTime,CountClipboardFormats,GetCon...</td>\n",
       "      <td>Virus</td>\n",
       "    </tr>\n",
       "    <tr>\n",
       "      <th>2</th>\n",
       "      <td>f77c6bd4aebacd1a01d02e0cb20642ebf2d32929</td>\n",
       "      <td>VarR8Pow,GetClipboardViewer,GetInputDesktop,Ge...</td>\n",
       "      <td>Virus</td>\n",
       "    </tr>\n",
       "    <tr>\n",
       "      <th>3</th>\n",
       "      <td>349c367c5b88fbb6cafae5d7109588d7250e16b5</td>\n",
       "      <td>SetTraceCallback,CopyAcceleratorTableW,GetProc...</td>\n",
       "      <td>Virus</td>\n",
       "    </tr>\n",
       "    <tr>\n",
       "      <th>4</th>\n",
       "      <td>021f4aa86b520e1d606ab26699c35546bcd00c27</td>\n",
       "      <td>SHLoadNonloadedIconOverlayIdentifiers,VarUI8Fr...</td>\n",
       "      <td>Virus</td>\n",
       "    </tr>\n",
       "  </tbody>\n",
       "</table>\n",
       "</div>"
      ],
      "text/plain": [
       "                                       file  \\\n",
       "0  7ff49f2f0912352416b05c010f35f402cc79feed   \n",
       "1  50cc6c99ec285d0db45dde07d8fdc18d9098c5b6   \n",
       "2  f77c6bd4aebacd1a01d02e0cb20642ebf2d32929   \n",
       "3  349c367c5b88fbb6cafae5d7109588d7250e16b5   \n",
       "4  021f4aa86b520e1d606ab26699c35546bcd00c27   \n",
       "\n",
       "                                                 api  class  \n",
       "0         IntersectRect,GetCurrentProcess,GetVersion  Virus  \n",
       "1  GetCaretBlinkTime,CountClipboardFormats,GetCon...  Virus  \n",
       "2  VarR8Pow,GetClipboardViewer,GetInputDesktop,Ge...  Virus  \n",
       "3  SetTraceCallback,CopyAcceleratorTableW,GetProc...  Virus  \n",
       "4  SHLoadNonloadedIconOverlayIdentifiers,VarUI8Fr...  Virus  "
      ]
     },
     "execution_count": 2,
     "metadata": {},
     "output_type": "execute_result"
    }
   ],
   "source": [
    "#read the data\n",
    "df = pd.read_csv('VirusSample.csv')\n",
    "df.head()"
   ]
  },
  {
   "cell_type": "code",
   "execution_count": 3,
   "metadata": {},
   "outputs": [
    {
     "data": {
      "text/plain": [
       "array(['Virus', 'Riskware', 'Spyware', 'Downloader', 'Dropper', 'Agent',\n",
       "       'Adware', 'Trojan', 'Backdoor', 'Worms', 'Ransomware', 'Keylogger',\n",
       "       'Crypt'], dtype=object)"
      ]
     },
     "execution_count": 3,
     "metadata": {},
     "output_type": "execute_result"
    }
   ],
   "source": [
    "#show the different classes\n",
    "df['class'].unique()\n"
   ]
  },
  {
   "cell_type": "code",
   "execution_count": 4,
   "metadata": {},
   "outputs": [
    {
     "data": {
      "text/plain": [
       "(9795, 3)"
      ]
     },
     "execution_count": 4,
     "metadata": {},
     "output_type": "execute_result"
    }
   ],
   "source": [
    "df.shape"
   ]
  },
  {
   "cell_type": "code",
   "execution_count": 5,
   "metadata": {},
   "outputs": [],
   "source": [
    "#Pandas profiler\n",
    "# import pandas_profiling\n",
    "# pandas_profiling.ProfileReport(df)\n"
   ]
  },
  {
   "cell_type": "code",
   "execution_count": 6,
   "metadata": {},
   "outputs": [
    {
     "data": {
      "text/plain": [
       "Trojan        6153\n",
       "Virus         2367\n",
       "Backdoor       447\n",
       "Worms          441\n",
       "Adware         222\n",
       "Agent          102\n",
       "Downloader      31\n",
       "Spyware         11\n",
       "Ransomware      10\n",
       "Riskware         4\n",
       "Dropper          4\n",
       "Crypt            2\n",
       "Keylogger        1\n",
       "Name: class, dtype: int64"
      ]
     },
     "execution_count": 6,
     "metadata": {},
     "output_type": "execute_result"
    }
   ],
   "source": [
    "#Count the class values\n",
    "df['class'].value_counts()\n"
   ]
  },
  {
   "cell_type": "code",
   "execution_count": 7,
   "metadata": {},
   "outputs": [
    {
     "data": {
      "text/plain": [
       "file     0\n",
       "api      0\n",
       "class    0\n",
       "dtype: int64"
      ]
     },
     "execution_count": 7,
     "metadata": {},
     "output_type": "execute_result"
    }
   ],
   "source": [
    "#Check if there is na values\n",
    "df.isna().sum()"
   ]
  },
  {
   "attachments": {},
   "cell_type": "markdown",
   "metadata": {},
   "source": [
    "## Preprocesamiento"
   ]
  },
  {
   "attachments": {},
   "cell_type": "markdown",
   "metadata": {},
   "source": [
    "Se puede observar que existe un desbalance en la informacion, tambien hay muestras no representativas dentro del dataset. Porlo que se eliminaran aquellos que presenten menor a 200 datos y se usaran como maximo 440 datos para balanceo"
   ]
  },
  {
   "cell_type": "code",
   "execution_count": 8,
   "metadata": {},
   "outputs": [
    {
     "data": {
      "text/plain": [
       "Trojan      6153\n",
       "Virus       2367\n",
       "Backdoor     447\n",
       "Worms        441\n",
       "Adware       222\n",
       "Name: class, dtype: int64"
      ]
     },
     "execution_count": 8,
     "metadata": {},
     "output_type": "execute_result"
    }
   ],
   "source": [
    "#Delete the observations of class column with less than 200 values\n",
    "df = df[df['class'].isin(df['class'].value_counts()[df['class'].value_counts() > 200].index)]\n",
    "df['class'].value_counts()"
   ]
  },
  {
   "cell_type": "code",
   "execution_count": 9,
   "metadata": {},
   "outputs": [
    {
     "data": {
      "text/plain": [
       "Virus       440\n",
       "Trojan      440\n",
       "Backdoor    440\n",
       "Worms       440\n",
       "Adware      222\n",
       "Name: class, dtype: int64"
      ]
     },
     "execution_count": 9,
     "metadata": {},
     "output_type": "execute_result"
    }
   ],
   "source": [
    "#Keep just a limit of 440 data for each observation\n",
    "df = df.groupby('class').head(440)\n",
    "df['class'].value_counts()"
   ]
  },
  {
   "cell_type": "code",
   "execution_count": 10,
   "metadata": {},
   "outputs": [
    {
     "data": {
      "text/plain": [
       "(1982, 3)"
      ]
     },
     "execution_count": 10,
     "metadata": {},
     "output_type": "execute_result"
    }
   ],
   "source": [
    "df.shape"
   ]
  },
  {
   "cell_type": "code",
   "execution_count": 11,
   "metadata": {},
   "outputs": [
    {
     "data": {
      "text/html": [
       "<div>\n",
       "<style scoped>\n",
       "    .dataframe tbody tr th:only-of-type {\n",
       "        vertical-align: middle;\n",
       "    }\n",
       "\n",
       "    .dataframe tbody tr th {\n",
       "        vertical-align: top;\n",
       "    }\n",
       "\n",
       "    .dataframe thead th {\n",
       "        text-align: right;\n",
       "    }\n",
       "</style>\n",
       "<table border=\"1\" class=\"dataframe\">\n",
       "  <thead>\n",
       "    <tr style=\"text-align: right;\">\n",
       "      <th></th>\n",
       "      <th>file</th>\n",
       "      <th>api</th>\n",
       "      <th>class</th>\n",
       "    </tr>\n",
       "  </thead>\n",
       "  <tbody>\n",
       "    <tr>\n",
       "      <th>0</th>\n",
       "      <td>7ff49f2f0912352416b05c010f35f402cc79feed</td>\n",
       "      <td>IntersectRect,GetCurrentProcess,GetVersion</td>\n",
       "      <td>Virus</td>\n",
       "    </tr>\n",
       "    <tr>\n",
       "      <th>1</th>\n",
       "      <td>50cc6c99ec285d0db45dde07d8fdc18d9098c5b6</td>\n",
       "      <td>GetCaretBlinkTime,CountClipboardFormats,GetCon...</td>\n",
       "      <td>Virus</td>\n",
       "    </tr>\n",
       "    <tr>\n",
       "      <th>2</th>\n",
       "      <td>f77c6bd4aebacd1a01d02e0cb20642ebf2d32929</td>\n",
       "      <td>VarR8Pow,GetClipboardViewer,GetInputDesktop,Ge...</td>\n",
       "      <td>Virus</td>\n",
       "    </tr>\n",
       "    <tr>\n",
       "      <th>3</th>\n",
       "      <td>349c367c5b88fbb6cafae5d7109588d7250e16b5</td>\n",
       "      <td>SetTraceCallback,CopyAcceleratorTableW,GetProc...</td>\n",
       "      <td>Virus</td>\n",
       "    </tr>\n",
       "    <tr>\n",
       "      <th>4</th>\n",
       "      <td>021f4aa86b520e1d606ab26699c35546bcd00c27</td>\n",
       "      <td>SHLoadNonloadedIconOverlayIdentifiers,VarUI8Fr...</td>\n",
       "      <td>Virus</td>\n",
       "    </tr>\n",
       "  </tbody>\n",
       "</table>\n",
       "</div>"
      ],
      "text/plain": [
       "                                       file  \\\n",
       "0  7ff49f2f0912352416b05c010f35f402cc79feed   \n",
       "1  50cc6c99ec285d0db45dde07d8fdc18d9098c5b6   \n",
       "2  f77c6bd4aebacd1a01d02e0cb20642ebf2d32929   \n",
       "3  349c367c5b88fbb6cafae5d7109588d7250e16b5   \n",
       "4  021f4aa86b520e1d606ab26699c35546bcd00c27   \n",
       "\n",
       "                                                 api  class  \n",
       "0         IntersectRect,GetCurrentProcess,GetVersion  Virus  \n",
       "1  GetCaretBlinkTime,CountClipboardFormats,GetCon...  Virus  \n",
       "2  VarR8Pow,GetClipboardViewer,GetInputDesktop,Ge...  Virus  \n",
       "3  SetTraceCallback,CopyAcceleratorTableW,GetProc...  Virus  \n",
       "4  SHLoadNonloadedIconOverlayIdentifiers,VarUI8Fr...  Virus  "
      ]
     },
     "execution_count": 11,
     "metadata": {},
     "output_type": "execute_result"
    }
   ],
   "source": [
    "df.head()"
   ]
  },
  {
   "cell_type": "code",
   "execution_count": 12,
   "metadata": {},
   "outputs": [],
   "source": [
    "df.dropna(inplace=True)\n",
    "df2 = df.copy()"
   ]
  },
  {
   "cell_type": "code",
   "execution_count": 13,
   "metadata": {},
   "outputs": [
    {
     "data": {
      "text/html": [
       "<div>\n",
       "<style scoped>\n",
       "    .dataframe tbody tr th:only-of-type {\n",
       "        vertical-align: middle;\n",
       "    }\n",
       "\n",
       "    .dataframe tbody tr th {\n",
       "        vertical-align: top;\n",
       "    }\n",
       "\n",
       "    .dataframe thead th {\n",
       "        text-align: right;\n",
       "    }\n",
       "</style>\n",
       "<table border=\"1\" class=\"dataframe\">\n",
       "  <thead>\n",
       "    <tr style=\"text-align: right;\">\n",
       "      <th></th>\n",
       "      <th>file</th>\n",
       "      <th>api</th>\n",
       "      <th>class</th>\n",
       "      <th>api_calls</th>\n",
       "    </tr>\n",
       "  </thead>\n",
       "  <tbody>\n",
       "    <tr>\n",
       "      <th>0</th>\n",
       "      <td>7ff49f2f0912352416b05c010f35f402cc79feed</td>\n",
       "      <td>IntersectRect,GetCurrentProcess,GetVersion</td>\n",
       "      <td>Virus</td>\n",
       "      <td>3</td>\n",
       "    </tr>\n",
       "    <tr>\n",
       "      <th>1</th>\n",
       "      <td>50cc6c99ec285d0db45dde07d8fdc18d9098c5b6</td>\n",
       "      <td>GetCaretBlinkTime,CountClipboardFormats,GetCon...</td>\n",
       "      <td>Virus</td>\n",
       "      <td>4</td>\n",
       "    </tr>\n",
       "    <tr>\n",
       "      <th>2</th>\n",
       "      <td>f77c6bd4aebacd1a01d02e0cb20642ebf2d32929</td>\n",
       "      <td>VarR8Pow,GetClipboardViewer,GetInputDesktop,Ge...</td>\n",
       "      <td>Virus</td>\n",
       "      <td>4</td>\n",
       "    </tr>\n",
       "    <tr>\n",
       "      <th>3</th>\n",
       "      <td>349c367c5b88fbb6cafae5d7109588d7250e16b5</td>\n",
       "      <td>SetTraceCallback,CopyAcceleratorTableW,GetProc...</td>\n",
       "      <td>Virus</td>\n",
       "      <td>5</td>\n",
       "    </tr>\n",
       "    <tr>\n",
       "      <th>4</th>\n",
       "      <td>021f4aa86b520e1d606ab26699c35546bcd00c27</td>\n",
       "      <td>SHLoadNonloadedIconOverlayIdentifiers,VarUI8Fr...</td>\n",
       "      <td>Virus</td>\n",
       "      <td>5</td>\n",
       "    </tr>\n",
       "  </tbody>\n",
       "</table>\n",
       "</div>"
      ],
      "text/plain": [
       "                                       file  \\\n",
       "0  7ff49f2f0912352416b05c010f35f402cc79feed   \n",
       "1  50cc6c99ec285d0db45dde07d8fdc18d9098c5b6   \n",
       "2  f77c6bd4aebacd1a01d02e0cb20642ebf2d32929   \n",
       "3  349c367c5b88fbb6cafae5d7109588d7250e16b5   \n",
       "4  021f4aa86b520e1d606ab26699c35546bcd00c27   \n",
       "\n",
       "                                                 api  class  api_calls  \n",
       "0         IntersectRect,GetCurrentProcess,GetVersion  Virus          3  \n",
       "1  GetCaretBlinkTime,CountClipboardFormats,GetCon...  Virus          4  \n",
       "2  VarR8Pow,GetClipboardViewer,GetInputDesktop,Ge...  Virus          4  \n",
       "3  SetTraceCallback,CopyAcceleratorTableW,GetProc...  Virus          5  \n",
       "4  SHLoadNonloadedIconOverlayIdentifiers,VarUI8Fr...  Virus          5  "
      ]
     },
     "execution_count": 13,
     "metadata": {},
     "output_type": "execute_result"
    }
   ],
   "source": [
    "#count the amount of api calls\n",
    "df['api_calls'] = df['api'].apply(lambda x: len(x.split(',')))\n",
    "df.head()\n"
   ]
  },
  {
   "cell_type": "code",
   "execution_count": 14,
   "metadata": {},
   "outputs": [
    {
     "data": {
      "text/html": [
       "<div>\n",
       "<style scoped>\n",
       "    .dataframe tbody tr th:only-of-type {\n",
       "        vertical-align: middle;\n",
       "    }\n",
       "\n",
       "    .dataframe tbody tr th {\n",
       "        vertical-align: top;\n",
       "    }\n",
       "\n",
       "    .dataframe thead th {\n",
       "        text-align: right;\n",
       "    }\n",
       "</style>\n",
       "<table border=\"1\" class=\"dataframe\">\n",
       "  <thead>\n",
       "    <tr style=\"text-align: right;\">\n",
       "      <th></th>\n",
       "      <th>class</th>\n",
       "      <th>api_calls</th>\n",
       "    </tr>\n",
       "  </thead>\n",
       "  <tbody>\n",
       "    <tr>\n",
       "      <th>0</th>\n",
       "      <td>Virus</td>\n",
       "      <td>3</td>\n",
       "    </tr>\n",
       "    <tr>\n",
       "      <th>1</th>\n",
       "      <td>Virus</td>\n",
       "      <td>4</td>\n",
       "    </tr>\n",
       "    <tr>\n",
       "      <th>2</th>\n",
       "      <td>Virus</td>\n",
       "      <td>4</td>\n",
       "    </tr>\n",
       "    <tr>\n",
       "      <th>3</th>\n",
       "      <td>Virus</td>\n",
       "      <td>5</td>\n",
       "    </tr>\n",
       "    <tr>\n",
       "      <th>4</th>\n",
       "      <td>Virus</td>\n",
       "      <td>5</td>\n",
       "    </tr>\n",
       "  </tbody>\n",
       "</table>\n",
       "</div>"
      ],
      "text/plain": [
       "   class  api_calls\n",
       "0  Virus          3\n",
       "1  Virus          4\n",
       "2  Virus          4\n",
       "3  Virus          5\n",
       "4  Virus          5"
      ]
     },
     "execution_count": 14,
     "metadata": {},
     "output_type": "execute_result"
    }
   ],
   "source": [
    "#drop file name and api columns\n",
    "df.drop(['file', 'api'], axis=1, inplace=True)\n",
    "df.head()"
   ]
  },
  {
   "cell_type": "code",
   "execution_count": 15,
   "metadata": {},
   "outputs": [
    {
     "data": {
      "text/plain": [
       "(1982, 2)"
      ]
     },
     "execution_count": 15,
     "metadata": {},
     "output_type": "execute_result"
    }
   ],
   "source": [
    "df.shape"
   ]
  },
  {
   "attachments": {},
   "cell_type": "markdown",
   "metadata": {},
   "source": [
    "# Modelos"
   ]
  },
  {
   "attachments": {},
   "cell_type": "markdown",
   "metadata": {},
   "source": [
    "Random Forest"
   ]
  },
  {
   "cell_type": "code",
   "execution_count": 16,
   "metadata": {},
   "outputs": [],
   "source": [
    "#Use random forest for classification and cross validation\n",
    "from sklearn.ensemble import RandomForestClassifier\n",
    "from sklearn.model_selection import cross_val_score\n",
    "from sklearn.model_selection import train_test_split\n",
    "from sklearn.metrics import accuracy_score\n",
    "from sklearn.metrics import confusion_matrix\n",
    "from sklearn.metrics import classification_report\n",
    "from sklearn.feature_extraction.text import TfidfVectorizer\n"
   ]
  },
  {
   "cell_type": "code",
   "execution_count": 17,
   "metadata": {},
   "outputs": [],
   "source": [
    "#Split the data into train and test\n",
    "tfidf = TfidfVectorizer()\n",
    "X = tfidf.fit_transform(df2['api'])\n",
    "y = df2['class']\n",
    "\n",
    "X_train, X_test, y_train, y_test = train_test_split(X, y, test_size=0.3, random_state=101)\n"
   ]
  },
  {
   "cell_type": "code",
   "execution_count": 18,
   "metadata": {},
   "outputs": [
    {
     "name": "stdout",
     "output_type": "stream",
     "text": [
      "Accuracy:  0.9159663865546218\n",
      "              precision    recall  f1-score   support\n",
      "\n",
      "      Adware       0.95      0.82      0.88        67\n",
      "    Backdoor       0.99      0.94      0.97       138\n",
      "      Trojan       0.88      0.84      0.86       128\n",
      "       Virus       0.94      0.99      0.97       137\n",
      "       Worms       0.84      0.94      0.88       125\n",
      "\n",
      "    accuracy                           0.92       595\n",
      "   macro avg       0.92      0.91      0.91       595\n",
      "weighted avg       0.92      0.92      0.92       595\n",
      "\n"
     ]
    },
    {
     "data": {
      "text/plain": [
       "0.9258083346023044"
      ]
     },
     "execution_count": 18,
     "metadata": {},
     "output_type": "execute_result"
    },
    {
     "data": {
      "image/png": "[encoded data removed]",
      "text/plain": [
       "<Figure size 1000x600 with 1 Axes>"
      ]
     },
     "metadata": {},
     "output_type": "display_data"
    }
   ],
   "source": [
    "#Create the model\n",
    "rfc = RandomForestClassifier(n_estimators=200)\n",
    "\n",
    "rfc.fit(X_train, y_train)\n",
    "\n",
    "#Predict the test data\n",
    "rfc_pred = rfc.predict(X_test)\n",
    "\n",
    "#Check the accuracy\n",
    "print('Accuracy: ', accuracy_score(y_test, rfc_pred))\n",
    "\n",
    "# Make a confusion matrix to see the results with labels in heatmap\n",
    "plt.figure(figsize=(10,6))\n",
    "# create the group names and group sizes for the first array\n",
    "group_names1 = ['True Adware', 'False Backdoor', 'False Trojan', 'False Virus', 'False Worm']\n",
    "group_counts1 = ['{0:0.0f}'.format(value) for value in confusion_matrix(y_test, rfc_pred)[0]]\n",
    "labels_group1 = ['{0}\\n{1}'.format(v1, v2) for v1, v2 in zip(group_names1, group_counts1)]\n",
    "labels_group1 = np.asarray(labels_group1).reshape(5,1)\n",
    "# create the group names and group sizes for the second array\n",
    "group_names2 = ['False Adware', 'True Backdoor', 'False Trojan', 'False Virus', 'False Worm']\n",
    "group_counts2 = ['{0:0.0f}'.format(value) for value in confusion_matrix(y_test, rfc_pred)[1]]\n",
    "labels_group2 = ['{0}\\n{1}'.format(v1, v2) for v1, v2 in zip(group_names2, group_counts2)]\n",
    "labels_group2 = np.asarray(labels_group2).reshape(5,1)\n",
    "# create the group names and group sizes for the third array\n",
    "group_names3 = ['False Adware', 'False Backdoor', 'True Trojan', 'False Virus', 'False Worm']\n",
    "group_counts3 = ['{0:0.0f}'.format(value) for value in confusion_matrix(y_test, rfc_pred)[2]]\n",
    "labels_group3 = ['{0}\\n{1}'.format(v1, v2) for v1, v2 in zip(group_names3, group_counts3)]\n",
    "labels_group3 = np.asarray(labels_group3).reshape(5,1)\n",
    "# create the group names and group sizes for the fourth array\n",
    "group_names4 = ['False Adware', 'False Backdoor', 'False Trojan', 'True Virus', 'False Worm']\n",
    "group_counts4 = ['{0:0.0f}'.format(value) for value in confusion_matrix(y_test, rfc_pred)[3]]\n",
    "labels_group4 = ['{0}\\n{1}'.format(v1, v2) for v1, v2 in zip(group_names4, group_counts4)]\n",
    "labels_group4 = np.asarray(labels_group4).reshape(5,1)\n",
    "# create the group names and group sizes for the fifth array\n",
    "group_names5 = ['False Adware', 'False Backdoor', 'False Trojan', 'False Virus', 'True Worm']\n",
    "group_counts5 = ['{0:0.0f}'.format(value) for value in confusion_matrix(y_test, rfc_pred)[4]]\n",
    "labels_group5 = ['{0}\\n{1}'.format(v1, v2) for v1, v2 in zip(group_names5, group_counts5)]\n",
    "labels_group5 = np.asarray(labels_group5).reshape(5,1)\n",
    "# create the final array\n",
    "labels = np.concatenate((labels_group1, labels_group2, labels_group3, labels_group4, labels_group5), axis=1)\n",
    "# set the labels\n",
    "sns.heatmap(confusion_matrix(y_test, rfc_pred), annot=labels, fmt='', cbar=False)\n",
    "plt.xlabel('Predicted')\n",
    "plt.ylabel('Truth')\n",
    "# print(confusion_matrix(y_test, rfc_pred))\n",
    "\n",
    "\n",
    "\n",
    "#Check the classification report\n",
    "print(classification_report(y_test, rfc_pred))\n",
    "\n",
    "#Check the cross validation score\n",
    "cross_val_score(rfc, X, y, cv=10, scoring='accuracy').mean()\n",
    "\n"
   ]
  },
  {
   "attachments": {},
   "cell_type": "markdown",
   "metadata": {},
   "source": [
    "SVM"
   ]
  },
  {
   "cell_type": "code",
   "execution_count": 22,
   "metadata": {},
   "outputs": [
    {
     "name": "stdout",
     "output_type": "stream",
     "text": [
      "Accuracy:  0.9109243697478991\n",
      "              precision    recall  f1-score   support\n",
      "\n",
      "      Adware       0.86      0.83      0.85        60\n",
      "    Backdoor       0.96      0.96      0.96       143\n",
      "      Trojan       0.88      0.83      0.85       136\n",
      "       Virus       0.92      0.96      0.94       130\n",
      "       Worms       0.91      0.93      0.92       126\n",
      "\n",
      "    accuracy                           0.91       595\n",
      "   macro avg       0.90      0.90      0.90       595\n",
      "weighted avg       0.91      0.91      0.91       595\n",
      "\n"
     ]
    },
    {
     "data": {
      "text/plain": [
       "Text(95.72222222222221, 0.5, 'Truth')"
      ]
     },
     "execution_count": 22,
     "metadata": {},
     "output_type": "execute_result"
    },
    {
     "data": {
      "image/png": "[encoded data removed]",
      "text/plain": [
       "<Figure size 1000x600 with 1 Axes>"
      ]
     },
     "metadata": {},
     "output_type": "display_data"
    }
   ],
   "source": [
    "# create the svm model to predict the class\n",
    "from sklearn.svm import SVC\n",
    "tfidf = TfidfVectorizer()\n",
    "X = tfidf.fit_transform(df2['api'])\n",
    "y = df2['class']\n",
    "#Split the data into train and test\n",
    "X_train, X_test, y_train, y_test = train_test_split(X, y, test_size=0.3, random_state=42)\n",
    "# create the svm model to predict the class\n",
    "from sklearn.svm import SVC\n",
    "svc_model = SVC()\n",
    "svc_model.fit(X_train, y_train)\n",
    "svc_pred = svc_model.predict(X_test)\n",
    "print('Accuracy: ', accuracy_score(y_test, svc_pred))\n",
    "\n",
    "#metrics\n",
    "#print(confusion_matrix(y_test, svc_pred))\n",
    "print(classification_report(y_test, svc_pred))\n",
    "#Check the cross validation score\n",
    "cross_val_score(svc_model, X, y, cv=10, scoring='accuracy').mean()\n",
    "\n",
    "#confusion matrix\n",
    "# Make a confusion matrix to see the results with labels in heatmap\n",
    "plt.figure(figsize=(10,6))\n",
    "# create the group names and group sizes for the first array\n",
    "group_names1 = ['True Adware', 'False Backdoor', 'False Trojan', 'False Virus', 'False Worm']\n",
    "group_counts1 = ['{0:0.0f}'.format(value) for value in confusion_matrix(y_test, svc_pred)[0]]\n",
    "labels_group1 = ['{0}\\n{1}'.format(v1, v2) for v1, v2 in zip(group_names1, group_counts1)]\n",
    "labels_group1 = np.asarray(labels_group1).reshape(5,1)\n",
    "\n",
    "# create the group names and group sizes for the second array\n",
    "group_names2 = ['False Adware', 'True Backdoor', 'False Trojan', 'False Virus', 'False Worm']\n",
    "group_counts2 = ['{0:0.0f}'.format(value) for value in confusion_matrix(y_test, svc_pred)[1]]\n",
    "labels_group2 = ['{0}\\n{1}'.format(v1, v2) for v1, v2 in zip(group_names2, group_counts2)]\n",
    "labels_group2 = np.asarray(labels_group2).reshape(5,1)\n",
    "\n",
    "# create the group names and group sizes for the third array\n",
    "group_names3 = ['False Adware', 'False Backdoor', 'True Trojan', 'False Virus', 'False Worm']\n",
    "group_counts3 = ['{0:0.0f}'.format(value) for value in confusion_matrix(y_test, svc_pred)[2]]\n",
    "labels_group3 = ['{0}\\n{1}'.format(v1, v2) for v1, v2 in zip(group_names3, group_counts3)]\n",
    "labels_group3 = np.asarray(labels_group3).reshape(5,1)\n",
    "\n",
    "# create the group names and group sizes for the fourth array\n",
    "group_names4 = ['False Adware', 'False Backdoor', 'False Trojan', 'True Virus', 'False Worm']\n",
    "group_counts4 = ['{0:0.0f}'.format(value) for value in confusion_matrix(y_test, svc_pred)[3]]\n",
    "labels_group4 = ['{0}\\n{1}'.format(v1, v2) for v1, v2 in zip(group_names4, group_counts4)]\n",
    "labels_group4 = np.asarray(labels_group4).reshape(5,1)\n",
    "\n",
    "# create the group names and group sizes for the fifth array\n",
    "group_names5 = ['False Adware', 'False Backdoor', 'False Trojan', 'False Virus', 'True Worm']\n",
    "group_counts5 = ['{0:0.0f}'.format(value) for value in confusion_matrix(y_test, svc_pred)[4]]\n",
    "labels_group5 = ['{0}\\n{1}'.format(v1, v2) for v1, v2 in zip(group_names5, group_counts5)]\n",
    "labels_group5 = np.asarray(labels_group5).reshape(5,1)\n",
    "\n",
    "# create the final array\n",
    "labels = np.concatenate((labels_group1, labels_group2, labels_group3, labels_group4, labels_group5), axis=1)\n",
    "\n",
    "# set the labels\n",
    "sns.heatmap(confusion_matrix(y_test, svc_pred), annot=labels, fmt='', cbar=False)\n",
    "plt.xlabel('Predicted')\n",
    "plt.ylabel('Truth')"
   ]
  },
  {
   "attachments": {},
   "cell_type": "markdown",
   "metadata": {},
   "source": [
    "¿se lograron obtener mejores métricas que las obtenidas en el\n",
    "artículo para la clasificación de malware?"
   ]
  }
 ],
 "metadata": {
  "kernelspec": {
   "display_name": "Python 3",
   "language": "python",
   "name": "python3"
  },
  "language_info": {
   "codemirror_mode": {
    "name": "ipython",
    "version": 3
   },
   "file_extension": ".py",
   "mimetype": "text/x-python",
   "name": "python",
   "nbconvert_exporter": "python",
   "pygments_lexer": "ipython3",
   "version": "3.10.10"
  },
  "orig_nbformat": 4
 },
 "nbformat": 4,
 "nbformat_minor": 2
}
